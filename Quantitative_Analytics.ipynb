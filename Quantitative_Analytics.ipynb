{
  "nbformat": 4,
  "nbformat_minor": 0,
  "metadata": {
    "colab": {
      "name": "Quantitative Analytics.ipynb",
      "provenance": [],
      "collapsed_sections": [],
      "authorship_tag": "ABX9TyOOJmDTM7dOIYHvGANv8ihc",
      "include_colab_link": true
    },
    "kernelspec": {
      "name": "python3",
      "display_name": "Python 3"
    }
  },
  "cells": [
    {
      "cell_type": "markdown",
      "metadata": {
        "id": "view-in-github",
        "colab_type": "text"
      },
      "source": [
        "<a href=\"https://colab.research.google.com/github/DataCrusade1999/Quantitative-Analytics/blob/master/Quantitative_Analytics.ipynb\" target=\"_parent\"><img src=\"https://colab.research.google.com/assets/colab-badge.svg\" alt=\"Open In Colab\"/></a>"
      ]
    },
    {
      "cell_type": "code",
      "metadata": {
        "id": "NdDTtz4xKWSK",
        "colab_type": "code",
        "colab": {}
      },
      "source": [
        "import pandas_datareader as pdr\n",
        "import datetime\n",
        "import pandas as pd\n",
        "import io\n",
        "from google.colab import files\n",
        "import matplotlib.pyplot as plt\n",
        "import numpy as np"
      ],
      "execution_count": 140,
      "outputs": []
    },
    {
      "cell_type": "code",
      "metadata": {
        "id": "4i5Awlz3K67_",
        "colab_type": "code",
        "colab": {
          "resources": {
            "http://localhost:8080/nbextensions/google.colab/files.js": {
              "data": "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",
              "ok": true,
              "headers": [
                [
                  "content-type",
                  "application/javascript"
                ]
              ],
              "status": 200,
              "status_text": ""
            }
          },
          "base_uri": "https://localhost:8080/",
          "height": 73
        },
        "outputId": "3c1c8c27-ccac-4600-e469-0edde08dd5fd"
      },
      "source": [
        "uploaded=files.upload()"
      ],
      "execution_count": 51,
      "outputs": [
        {
          "output_type": "display_data",
          "data": {
            "text/html": [
              "\n",
              "     <input type=\"file\" id=\"files-20ec8e1d-1b4d-4d40-ad44-d10ab9adf5dc\" name=\"files[]\" multiple disabled\n",
              "        style=\"border:none\" />\n",
              "     <output id=\"result-20ec8e1d-1b4d-4d40-ad44-d10ab9adf5dc\">\n",
              "      Upload widget is only available when the cell has been executed in the\n",
              "      current browser session. Please rerun this cell to enable.\n",
              "      </output>\n",
              "      <script src=\"/nbextensions/google.colab/files.js\"></script> "
            ],
            "text/plain": [
              "<IPython.core.display.HTML object>"
            ]
          },
          "metadata": {
            "tags": []
          }
        },
        {
          "output_type": "stream",
          "text": [
            "Saving D__Important Stuff_Machine Learning Datasets_apl_ohlc.csv to D__Important Stuff_Machine Learning Datasets_apl_ohlc (1).csv\n"
          ],
          "name": "stdout"
        }
      ]
    },
    {
      "cell_type": "code",
      "metadata": {
        "id": "pf8_8-NEaS1l",
        "colab_type": "code",
        "colab": {}
      },
      "source": [
        "aapl=pd.read_csv(io.BytesIO(uploaded['D__Important Stuff_Machine Learning Datasets_apl_ohlc.csv']))\n",
        "#aapl['diff']=aapl.Open-aapl.Close"
      ],
      "execution_count": 125,
      "outputs": []
    },
    {
      "cell_type": "markdown",
      "metadata": {
        "id": "AjvWX7XhNNfP",
        "colab_type": "text"
      },
      "source": [
        "PERFORMING EDA ON DATA"
      ]
    },
    {
      "cell_type": "code",
      "metadata": {
        "id": "TLSK5EAALOBS",
        "colab_type": "code",
        "colab": {
          "base_uri": "https://localhost:8080/",
          "height": 118
        },
        "outputId": "a1e081bf-ef6b-46b7-dc64-5950578de187"
      },
      "source": [
        "print(aapl.head(5))"
      ],
      "execution_count": 126,
      "outputs": [
        {
          "output_type": "stream",
          "text": [
            "         Date       High        Low       Open      Close     Volume  Adj Close\n",
            "0  2006-10-02  10.838572  10.614285  10.728572  10.694285  178159800   9.241351\n",
            "1  2006-10-03  10.707143  10.455714  10.635715  10.582857  197677200   9.145061\n",
            "2  2006-10-04  10.780000  10.451428  10.585714  10.768572  207270700   9.305547\n",
            "3  2006-10-05  10.880000  10.590000  10.647142  10.690000  170970800   9.237648\n",
            "4  2006-10-06  10.720000  10.544286  10.631429  10.602858  116739700   9.162347\n"
          ],
          "name": "stdout"
        }
      ]
    },
    {
      "cell_type": "code",
      "metadata": {
        "id": "QTzouw4iNSbM",
        "colab_type": "code",
        "colab": {
          "base_uri": "https://localhost:8080/",
          "height": 151
        },
        "outputId": "d4dab2f8-df15-4f11-b3e9-f94a2d5f57ed"
      },
      "source": [
        "print(aapl.tail(5))"
      ],
      "execution_count": 127,
      "outputs": [
        {
          "output_type": "stream",
          "text": [
            "            Date       High        Low  ...      Close    Volume  Adj Close\n",
            "1318  2011-12-23  57.655716  57.070000  ...  57.618572  67349800  49.790466\n",
            "1319  2011-12-27  58.441429  57.574287  ...  58.075714  66269000  50.185513\n",
            "1320  2011-12-28  58.321430  57.334286  ...  57.520000  57165500  49.705292\n",
            "1321  2011-12-29  57.950001  57.215714  ...  57.874287  53994500  50.011452\n",
            "1322  2011-12-30  58.040001  57.641430  ...  57.857143  44915500  49.996635\n",
            "\n",
            "[5 rows x 7 columns]\n"
          ],
          "name": "stdout"
        }
      ]
    },
    {
      "cell_type": "code",
      "metadata": {
        "id": "n09qxynhNXRw",
        "colab_type": "code",
        "colab": {
          "base_uri": "https://localhost:8080/",
          "height": 34
        },
        "outputId": "a5472cc7-bbcb-4a5f-e6e4-118d518a4b4a"
      },
      "source": [
        "print(aapl.shape)"
      ],
      "execution_count": 128,
      "outputs": [
        {
          "output_type": "stream",
          "text": [
            "(1323, 7)\n"
          ],
          "name": "stdout"
        }
      ]
    },
    {
      "cell_type": "code",
      "metadata": {
        "id": "Q8n0yTXdNag_",
        "colab_type": "code",
        "colab": {
          "base_uri": "https://localhost:8080/",
          "height": 34
        },
        "outputId": "fb258358-1db7-4d64-f841-69d9f2ed53e8"
      },
      "source": [
        "print(aapl.columns)"
      ],
      "execution_count": 129,
      "outputs": [
        {
          "output_type": "stream",
          "text": [
            "Index(['Date', 'High', 'Low', 'Open', 'Close', 'Volume', 'Adj Close'], dtype='object')\n"
          ],
          "name": "stdout"
        }
      ]
    },
    {
      "cell_type": "code",
      "metadata": {
        "id": "ctUdw-ucNd-u",
        "colab_type": "code",
        "colab": {
          "base_uri": "https://localhost:8080/",
          "height": 202
        },
        "outputId": "9bff708c-7de4-49ee-fa94-6c32bee2d956"
      },
      "source": [
        "print(aapl.describe())"
      ],
      "execution_count": 130,
      "outputs": [
        {
          "output_type": "stream",
          "text": [
            "              High          Low  ...        Volume    Adj Close\n",
            "count  1323.000000  1323.000000  ...  1.323000e+03  1323.000000\n",
            "mean     29.237566    28.507684  ...  1.882896e+08    24.964252\n",
            "std      14.199012    14.029758  ...  1.027007e+08    12.201417\n",
            "min      10.568571    10.371428  ...  3.937360e+07     9.040131\n",
            "25%      17.752857    17.182143  ...  1.122037e+08    15.063183\n",
            "50%      25.642857    24.725714  ...  1.629866e+08    21.707180\n",
            "75%      39.132858    38.351429  ...  2.316230e+08    33.442190\n",
            "max      60.957142    59.427143  ...  8.432424e+08    52.124886\n",
            "\n",
            "[8 rows x 6 columns]\n"
          ],
          "name": "stdout"
        }
      ]
    },
    {
      "cell_type": "code",
      "metadata": {
        "id": "YcenzxjtNjxP",
        "colab_type": "code",
        "colab": {
          "base_uri": "https://localhost:8080/",
          "height": 269
        },
        "outputId": "62bc8890-1762-4bc1-a5a7-837ff139916a"
      },
      "source": [
        "print(aapl.info())"
      ],
      "execution_count": 131,
      "outputs": [
        {
          "output_type": "stream",
          "text": [
            "<class 'pandas.core.frame.DataFrame'>\n",
            "RangeIndex: 1323 entries, 0 to 1322\n",
            "Data columns (total 7 columns):\n",
            " #   Column     Non-Null Count  Dtype  \n",
            "---  ------     --------------  -----  \n",
            " 0   Date       1323 non-null   object \n",
            " 1   High       1323 non-null   float64\n",
            " 2   Low        1323 non-null   float64\n",
            " 3   Open       1323 non-null   float64\n",
            " 4   Close      1323 non-null   float64\n",
            " 5   Volume     1323 non-null   int64  \n",
            " 6   Adj Close  1323 non-null   float64\n",
            "dtypes: float64(5), int64(1), object(1)\n",
            "memory usage: 72.5+ KB\n",
            "None\n"
          ],
          "name": "stdout"
        }
      ]
    },
    {
      "cell_type": "code",
      "metadata": {
        "id": "DJrYKwbTNvk2",
        "colab_type": "code",
        "colab": {
          "base_uri": "https://localhost:8080/",
          "height": 252
        },
        "outputId": "efcd095d-b830-4f7f-8b0a-f9988b8f0ab3"
      },
      "source": [
        "print(aapl.isnull())"
      ],
      "execution_count": 132,
      "outputs": [
        {
          "output_type": "stream",
          "text": [
            "       Date   High    Low   Open  Close  Volume  Adj Close\n",
            "0     False  False  False  False  False   False      False\n",
            "1     False  False  False  False  False   False      False\n",
            "2     False  False  False  False  False   False      False\n",
            "3     False  False  False  False  False   False      False\n",
            "4     False  False  False  False  False   False      False\n",
            "...     ...    ...    ...    ...    ...     ...        ...\n",
            "1318  False  False  False  False  False   False      False\n",
            "1319  False  False  False  False  False   False      False\n",
            "1320  False  False  False  False  False   False      False\n",
            "1321  False  False  False  False  False   False      False\n",
            "1322  False  False  False  False  False   False      False\n",
            "\n",
            "[1323 rows x 7 columns]\n"
          ],
          "name": "stdout"
        }
      ]
    },
    {
      "cell_type": "code",
      "metadata": {
        "id": "_ew7xzQ0N71Z",
        "colab_type": "code",
        "colab": {
          "base_uri": "https://localhost:8080/",
          "height": 34
        },
        "outputId": "19361ff7-7788-4f92-b9e5-cf9e1eab7bd2"
      },
      "source": [
        "print(aapl.index)"
      ],
      "execution_count": 133,
      "outputs": [
        {
          "output_type": "stream",
          "text": [
            "RangeIndex(start=0, stop=1323, step=1)\n"
          ],
          "name": "stdout"
        }
      ]
    },
    {
      "cell_type": "code",
      "metadata": {
        "id": "7aAwRpKOdB25",
        "colab_type": "code",
        "colab": {
          "base_uri": "https://localhost:8080/",
          "height": 67
        },
        "outputId": "b604e3d6-9719-4057-a41a-48ee912b3354"
      },
      "source": [
        "print(aapl.iloc[[1,2], [0,2,3,4]])"
      ],
      "execution_count": 134,
      "outputs": [
        {
          "output_type": "stream",
          "text": [
            "         Date        Low       Open      Close\n",
            "1  2006-10-03  10.455714  10.635715  10.582857\n",
            "2  2006-10-04  10.451428  10.585714  10.768572\n"
          ],
          "name": "stdout"
        }
      ]
    },
    {
      "cell_type": "code",
      "metadata": {
        "id": "G20ATpRGd_jx",
        "colab_type": "code",
        "colab": {
          "base_uri": "https://localhost:8080/",
          "height": 403
        },
        "outputId": "cddad9d2-28e9-4e36-a75e-6114f8aff1a7"
      },
      "source": [
        "print(aapl.sample(20))"
      ],
      "execution_count": 135,
      "outputs": [
        {
          "output_type": "stream",
          "text": [
            "            Date       High        Low  ...      Close     Volume  Adj Close\n",
            "900   2010-04-30  38.652859  37.285713  ...  37.298573  135615900  32.231163\n",
            "150   2007-05-09  15.280000  14.984285  ...  15.268572  179439400  13.194173\n",
            "1031  2010-11-04  45.740002  45.004284  ...  45.467144  160622000  39.289940\n",
            "468   2008-08-12  25.612858  24.787144  ...  25.247143  209069700  21.817051\n",
            "838   2010-02-01  28.000000  27.328571  ...  27.818571  187469100  24.039122\n",
            "961   2010-07-28  37.998573  37.178570  ...  37.279999  129996300  32.215107\n",
            "927   2010-06-09  35.985714  34.641430  ...  34.742859  213657500  30.022667\n",
            "315   2008-01-03  28.198572  27.527143  ...  27.847143  210516600  24.063807\n",
            "69    2007-01-11  13.825714  13.585714  ...  13.685715  360063200  11.826364\n",
            "390   2008-04-22  24.000000  22.584286  ...  22.885714  359893100  19.776449\n",
            "84    2007-02-02  12.178572  11.957143  ...  12.107142  155382500  10.462261\n",
            "868   2010-03-16  32.139999  31.787144  ...  32.064285  111727000  27.708010\n",
            "1148  2011-04-25  50.535713  50.042858  ...  50.430000   66636500  43.578548\n",
            "1278  2011-10-27  58.428570  57.412857  ...  57.812859  123666200  49.958374\n",
            "876   2010-03-26  33.135715  32.650002  ...  32.985714  160218800  28.504251\n",
            "427   2008-06-13  24.879999  23.615715  ...  24.624287  336489300  21.278811\n",
            "815   2009-12-28  30.564285  29.944286  ...  30.230000  161141400  26.122931\n",
            "1258  2011-09-29  57.458572  55.172855  ...  55.795715  162771700  48.215267\n",
            "240   2007-09-17  20.084286  19.657143  ...  19.772858  198342900  17.086506\n",
            "184   2007-06-27  17.434286  17.037144  ...  17.412857  243674200  15.047132\n",
            "\n",
            "[20 rows x 7 columns]\n"
          ],
          "name": "stdout"
        }
      ]
    },
    {
      "cell_type": "code",
      "metadata": {
        "id": "rt5Ub3fAkAev",
        "colab_type": "code",
        "colab": {
          "base_uri": "https://localhost:8080/",
          "height": 265
        },
        "outputId": "8f1fd117-b824-4d12-d27e-630174cb734f"
      },
      "source": [
        "aapl['Close'].plot(grid=True)\n",
        "plt.show()"
      ],
      "execution_count": 136,
      "outputs": [
        {
          "output_type": "display_data",
          "data": {
            "image/png": "[encoded data removed]",
            "text/plain": [
              "<Figure size 432x288 with 1 Axes>"
            ]
          },
          "metadata": {
            "tags": [],
            "needs_background": "light"
          }
        }
      ]
    },
    {
      "cell_type": "code",
      "metadata": {
        "id": "kITGYtdhkCLf",
        "colab_type": "code",
        "colab": {
          "base_uri": "https://localhost:8080/",
          "height": 320
        },
        "outputId": "0b69a82f-e0b0-4b55-af82-aa9ab7585433"
      },
      "source": [
        "aapl['Open'].plot(grid=True,figsize=(12,5))\n",
        "plt.show()"
      ],
      "execution_count": 175,
      "outputs": [
        {
          "output_type": "display_data",
          "data": {
            "image/png": "[encoded data removed]",
            "text/plain": [
              "<Figure size 864x360 with 1 Axes>"
            ]
          },
          "metadata": {
            "tags": [],
            "needs_background": "light"
          }
        }
      ]
    },
    {
      "cell_type": "code",
      "metadata": {
        "id": "rHfgNibViayX",
        "colab_type": "code",
        "colab": {
          "base_uri": "https://localhost:8080/",
          "height": 266
        },
        "outputId": "bf880403-d94c-4ea2-c987-96506468429d"
      },
      "source": [
        "aapl['Close'].head(5).plot(grid=True)\n",
        "plt.show()"
      ],
      "execution_count": 138,
      "outputs": [
        {
          "output_type": "display_data",
          "data": {
            "image/png": "[encoded data removed]",
            "text/plain": [
              "<Figure size 432x288 with 1 Axes>"
            ]
          },
          "metadata": {
            "tags": [],
            "needs_background": "light"
          }
        }
      ]
    },
    {
      "cell_type": "code",
      "metadata": {
        "id": "RrJzUZx8jehA",
        "colab_type": "code",
        "colab": {
          "base_uri": "https://localhost:8080/",
          "height": 265
        },
        "outputId": "785a0aad-0e92-4ee9-edff-a98499421078"
      },
      "source": [
        "aapl['Open'].head(5).plot(grid=True)\n",
        "plt.show()"
      ],
      "execution_count": 139,
      "outputs": [
        {
          "output_type": "display_data",
          "data": {
            "image/png": "[encoded data removed]",
            "text/plain": [
              "<Figure size 432x288 with 1 Axes>"
            ]
          },
          "metadata": {
            "tags": [],
            "needs_background": "light"
          }
        }
      ]
    },
    {
      "cell_type": "markdown",
      "metadata": {
        "id": "fEWFW8t27MRY",
        "colab_type": "text"
      },
      "source": [
        "COMMON FINANCIAL ANALYSIS"
      ]
    },
    {
      "cell_type": "code",
      "metadata": {
        "id": "-qiQXE2SkRSo",
        "colab_type": "code",
        "colab": {
          "base_uri": "https://localhost:8080/",
          "height": 202
        },
        "outputId": "180e5514-d8d7-4762-c687-17d550115acb"
      },
      "source": [
        "daily_close=aapl[['Adj Close']]\n",
        "daily_pct_change=daily_close.pct_change()\n",
        "daily_pct_change.fillna(0, inplace=True)\n",
        "print(daily_pct_change.head(10))"
      ],
      "execution_count": 194,
      "outputs": [
        {
          "output_type": "stream",
          "text": [
            "   Adj Close\n",
            "0   0.000000\n",
            "1  -0.010419\n",
            "2   0.017549\n",
            "3  -0.007297\n",
            "4  -0.008152\n",
            "5   0.005524\n",
            "6  -0.010988\n",
            "7  -0.007858\n",
            "8   0.027721\n",
            "9  -0.003189\n"
          ],
          "name": "stdout"
        }
      ]
    },
    {
      "cell_type": "code",
      "metadata": {
        "id": "HJ4ZlzfByO5b",
        "colab_type": "code",
        "colab": {
          "base_uri": "https://localhost:8080/",
          "height": 202
        },
        "outputId": "5d539969-065d-4dfa-f768-dc8504c61ac4"
      },
      "source": [
        "daily_log_returns = np.log(daily_close.pct_change()+1)\n",
        "print(daily_log_returns.head(10))"
      ],
      "execution_count": 195,
      "outputs": [
        {
          "output_type": "stream",
          "text": [
            "   Adj Close\n",
            "0        NaN\n",
            "1  -0.010474\n",
            "2   0.017397\n",
            "3  -0.007323\n",
            "4  -0.008185\n",
            "5   0.005509\n",
            "6  -0.011048\n",
            "7  -0.007889\n",
            "8   0.027344\n",
            "9  -0.003194\n"
          ],
          "name": "stdout"
        }
      ]
    },
    {
      "cell_type": "code",
      "metadata": {
        "id": "K4unYTB1xmSv",
        "colab_type": "code",
        "colab": {
          "base_uri": "https://localhost:8080/",
          "height": 202
        },
        "outputId": "7592b277-8935-47a4-e6e9-2610a9cbc0cc"
      },
      "source": [
        "#prefer this method while calculating daily percent change\n",
        "daily_pct_change = daily_close / daily_close.shift(1) - 1\n",
        "print(daily_pct_change.head(10))"
      ],
      "execution_count": 196,
      "outputs": [
        {
          "output_type": "stream",
          "text": [
            "   Adj Close\n",
            "0        NaN\n",
            "1  -0.010419\n",
            "2   0.017549\n",
            "3  -0.007297\n",
            "4  -0.008152\n",
            "5   0.005524\n",
            "6  -0.010988\n",
            "7  -0.007858\n",
            "8   0.027721\n",
            "9  -0.003189\n"
          ],
          "name": "stdout"
        }
      ]
    },
    {
      "cell_type": "code",
      "metadata": {
        "id": "3OXyNRP2881J",
        "colab_type": "code",
        "colab": {
          "base_uri": "https://localhost:8080/",
          "height": 202
        },
        "outputId": "fd153841-213c-4443-e257-c6017d672389"
      },
      "source": [
        "daily_log_returns_shift=np.log(daily_close / daily_close.shift(1))\n",
        "print(daily_log_returns_shift.head(10))"
      ],
      "execution_count": 197,
      "outputs": [
        {
          "output_type": "stream",
          "text": [
            "   Adj Close\n",
            "0        NaN\n",
            "1  -0.010474\n",
            "2   0.017397\n",
            "3  -0.007323\n",
            "4  -0.008185\n",
            "5   0.005509\n",
            "6  -0.011048\n",
            "7  -0.007889\n",
            "8   0.027344\n",
            "9  -0.003194\n"
          ],
          "name": "stdout"
        }
      ]
    },
    {
      "cell_type": "code",
      "metadata": {
        "id": "KxUvJGZ-yz6s",
        "colab_type": "code",
        "colab": {
          "base_uri": "https://localhost:8080/",
          "height": 432
        },
        "outputId": "e9e4cdbf-da19-47e6-876c-7b7f7fc68910"
      },
      "source": [
        "daily_pct_change.hist(bins=50)\n",
        "plt.show()\n",
        "print(daily_pct_change.describe())"
      ],
      "execution_count": 198,
      "outputs": [
        {
          "output_type": "display_data",
          "data": {
            "image/png": "[encoded data removed]",
            "text/plain": [
              "<Figure size 432x288 with 1 Axes>"
            ]
          },
          "metadata": {
            "tags": [],
            "needs_background": "light"
          }
        },
        {
          "output_type": "stream",
          "text": [
            "         Adj Close\n",
            "count  1322.000000\n",
            "mean      0.001566\n",
            "std       0.023992\n",
            "min      -0.179195\n",
            "25%      -0.010672\n",
            "50%       0.001677\n",
            "75%       0.014306\n",
            "max       0.139049\n"
          ],
          "name": "stdout"
        }
      ]
    },
    {
      "cell_type": "code",
      "metadata": {
        "id": "UCTwT7wk8c7r",
        "colab_type": "code",
        "colab": {
          "base_uri": "https://localhost:8080/",
          "height": 202
        },
        "outputId": "a8548a16-89b7-4f9a-eb8a-4d8eb7d659a6"
      },
      "source": [
        "cum_daily_return=(1+daily_pct_change).cumprod()\n",
        "print(cum_daily_return.head(10))"
      ],
      "execution_count": 199,
      "outputs": [
        {
          "output_type": "stream",
          "text": [
            "   Adj Close\n",
            "0        NaN\n",
            "1   0.989581\n",
            "2   1.006947\n",
            "3   0.999599\n",
            "4   0.991451\n",
            "5   0.996928\n",
            "6   0.985974\n",
            "7   0.978226\n",
            "8   1.005344\n",
            "9   1.002137\n"
          ],
          "name": "stdout"
        }
      ]
    },
    {
      "cell_type": "code",
      "metadata": {
        "id": "F2Mpl2e_91ZI",
        "colab_type": "code",
        "colab": {
          "base_uri": "https://localhost:8080/",
          "height": 320
        },
        "outputId": "21642813-8f2e-4866-8baf-a9c7c088cc2a"
      },
      "source": [
        "cum_daily_return.plot(figsize=(12,5))\n",
        "plt.show()"
      ],
      "execution_count": 200,
      "outputs": [
        {
          "output_type": "display_data",
          "data": {
            "image/png": "[encoded data removed]",
            "text/plain": [
              "<Figure size 864x360 with 1 Axes>"
            ]
          },
          "metadata": {
            "tags": [],
            "needs_background": "light"
          }
        }
      ]
    },
    {
      "cell_type": "code",
      "metadata": {
        "id": "peEPA2syKsLA",
        "colab_type": "code",
        "colab": {
          "base_uri": "https://localhost:8080/",
          "height": 269
        },
        "outputId": "a812cc10-72d9-4176-f262-9dcc156091c7"
      },
      "source": [
        "def get(tickers, startdate, enddate):\n",
        "  def data(ticker):\n",
        "    return (pdr.get_data_yahoo(ticker, start=startdate, end=enddate))\n",
        "  datas = map (data, tickers)\n",
        "  return(pd.concat(datas, keys=tickers, names=['Ticker', 'Date']))\n",
        "\n",
        "tickers = [ 'TSLA','MSFT', 'IBM', 'GOOG']\n",
        "all_data = get(tickers, datetime.datetime(2006, 10, 1), datetime.datetime(2012, 1, 1))\n",
        "print(all_data)"
      ],
      "execution_count": 213,
      "outputs": [
        {
          "output_type": "stream",
          "text": [
            "                         High         Low  ...      Volume   Adj Close\n",
            "Ticker Date                                ...                        \n",
            "TSLA   2010-06-29   25.000000   17.540001  ...  18766300.0   23.889999\n",
            "       2010-06-30   30.420000   23.299999  ...  17187100.0   23.830000\n",
            "       2010-07-01   25.920000   20.270000  ...   8218800.0   21.959999\n",
            "       2010-07-02   23.100000   18.709999  ...   5139800.0   19.200001\n",
            "       2010-07-06   20.000000   15.830000  ...   6866900.0   16.110001\n",
            "...                       ...         ...  ...         ...         ...\n",
            "GOOG   2011-12-23  316.154968  314.102661  ...   2918200.0  315.387848\n",
            "       2011-12-27  321.041656  314.819977  ...   3224800.0  318.929565\n",
            "       2011-12-28  321.295715  317.858582  ...   4270200.0  318.655609\n",
            "       2011-12-29  320.299438  316.414001  ...   3162500.0  320.000549\n",
            "       2011-12-30  322.172424  319.811279  ...   3577800.0  321.744019\n",
            "\n",
            "[4351 rows x 6 columns]\n"
          ],
          "name": "stdout"
        }
      ]
    },
    {
      "cell_type": "code",
      "metadata": {
        "id": "x0BWdfPvNcvO",
        "colab_type": "code",
        "colab": {
          "base_uri": "https://localhost:8080/",
          "height": 499
        },
        "outputId": "fc4945a9-c577-4db4-c11a-bb08f49f1d71"
      },
      "source": [
        "daily_close_nStocks=all_data[['Adj Close']].reset_index().pivot('Date','Ticker','Adj Close')\n",
        "daily_pct_change=daily_close_nStocks.pct_change()\n",
        "daily_pct_change.hist(bins=50,sharex=True,figsize=(12,8))\n",
        "plt.show()"
      ],
      "execution_count": 214,
      "outputs": [
        {
          "output_type": "display_data",
          "data": {
            "image/png": "[encoded data removed]",
            "text/plain": [
              "<Figure size 864x576 with 4 Axes>"
            ]
          },
          "metadata": {
            "tags": [],
            "needs_background": "light"
          }
        }
      ]
    },
    {
      "cell_type": "code",
      "metadata": {
        "id": "-gbbz_v4PmBN",
        "colab_type": "code",
        "colab": {}
      },
      "source": [
        ""
      ],
      "execution_count": 220,
      "outputs": []
    }
  ]
}